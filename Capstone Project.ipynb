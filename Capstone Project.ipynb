{
 "cells": [
  {
   "cell_type": "code",
   "execution_count": 2,
   "metadata": {},
   "outputs": [],
   "source": [
    "#import needed libraries\n",
    "import numpy as np\n",
    "import pandas as pd\n",
    "import matplotlib.pyplot as plt\n",
    "import seaborn as sns\n",
    "import xgboost as xgb\n",
    "from time import time\n",
    "from sklearn.metrics import roc_auc_score\n",
    "from sklearn.metrics import confusion_matrix\n",
    "sns.set()\n",
    "%matplotlib inline"
   ]
  },
  {
   "cell_type": "code",
   "execution_count": 3,
   "metadata": {},
   "outputs": [],
   "source": [
    "train = pd.read_csv(\"train.csv\")\n",
    "test = pd.read_csv(\"test.csv\")"
   ]
  },
  {
   "cell_type": "code",
   "execution_count": 108,
   "metadata": {},
   "outputs": [
    {
     "name": "stdout",
     "output_type": "stream",
     "text": [
      "Train Shape: (200000, 202)\n"
     ]
    }
   ],
   "source": [
    "#\n",
    "print('Train Shape:', train.shape)\n",
    "print('Train Shape:', train.shape)"
   ]
  },
  {
   "cell_type": "code",
   "execution_count": 5,
   "metadata": {},
   "outputs": [
    {
     "name": "stdout",
     "output_type": "stream",
     "text": [
      "Total number of records: 200000\n",
      "Clients that made the transaction: 20098\n",
      "Clients that didn't make the transaction: 179902\n",
      "Percentage of clients that made the transaction: 10.049%\n"
     ]
    }
   ],
   "source": [
    "# Total number of records\n",
    "n_records = len(train)\n",
    "\n",
    "# Number of records where the client made the transaction\n",
    "made = train.target.sum()\n",
    "\n",
    "# Number of records where the client didn't make the transaction\n",
    "didnt_make = n_records - made\n",
    "\n",
    "# Percentage of transaction made\n",
    "percentage = made / n_records \n",
    "\n",
    "# Print the results\n",
    "print(\"Total number of records: {}\".format(n_records))\n",
    "print(\"Clients that made the transaction: {}\".format(made))\n",
    "print(\"Clients that didn't make the transaction: {}\".format(didnt_make))\n",
    "print(\"Percentage of clients that made the transaction: {}%\".format(percentage*100))"
   ]
  },
  {
   "cell_type": "code",
   "execution_count": 6,
   "metadata": {
    "scrolled": true
   },
   "outputs": [],
   "source": [
    "#Setting up X and y\n",
    "train_data = train.copy()\n",
    "y = train_data.target\n",
    "X = train_data.drop(['ID_code', 'target'], axis=1)"
   ]
  },
  {
   "cell_type": "markdown",
   "metadata": {},
   "source": [
    "# Preprocessing the data"
   ]
  },
  {
   "cell_type": "code",
   "execution_count": 7,
   "metadata": {},
   "outputs": [],
   "source": [
    "from sklearn.preprocessing import MinMaxScaler\n",
    "from sklearn.preprocessing import StandardScaler\n",
    "\n",
    "scaler = StandardScaler()\n",
    "scaled_features = scaler.fit_transform(X)"
   ]
  },
  {
   "cell_type": "code",
   "execution_count": 93,
   "metadata": {},
   "outputs": [
    {
     "name": "stdout",
     "output_type": "stream",
     "text": [
      "Training set has 100000 samples.\n",
      "Testing set has 100000 samples.\n"
     ]
    }
   ],
   "source": [
    "# Import train_test_split\n",
    "from sklearn.model_selection import train_test_split\n",
    "\n",
    "# Split the 'features' and 'income' data into training and testing sets\n",
    "X_train, X_test, y_train, y_test = train_test_split(scaled_features, \n",
    "                                                    y, \n",
    "                                                    test_size = 0.5, \n",
    "                                                    random_state = 1)\n",
    "\n",
    "# Show the results of the split\n",
    "print(\"Training set has {} samples.\".format(X_train.shape[0]))\n",
    "print(\"Testing set has {} samples.\".format(X_test.shape[0]))"
   ]
  },
  {
   "cell_type": "code",
   "execution_count": 9,
   "metadata": {},
   "outputs": [],
   "source": [
    "from xgboost import XGBClassifier"
   ]
  },
  {
   "cell_type": "code",
   "execution_count": 94,
   "metadata": {},
   "outputs": [
    {
     "name": "stderr",
     "output_type": "stream",
     "text": [
      "C:\\Users\\eders\\Anaconda3\\lib\\site-packages\\xgboost\\core.py:587: FutureWarning: Series.base is deprecated and will be removed in a future version\n",
      "  if getattr(data, 'base', None) is not None and \\\n"
     ]
    }
   ],
   "source": [
    "D_train = xgb.DMatrix(X_train, label=y_train)\n",
    "D_test = xgb.DMatrix(X_test, label=y_test)\n",
    "\n",
    "#cv_results = xgb.cv(dtrain=D_train, params=params, nfold=10,\n",
    "#                    num_boost_round=1000,early_stopping_rounds=50,metrics=\"auc\", as_pandas=True, seed=123)"
   ]
  },
  {
   "cell_type": "markdown",
   "metadata": {},
   "source": [
    "# Training and Testing"
   ]
  },
  {
   "cell_type": "code",
   "execution_count": 11,
   "metadata": {},
   "outputs": [],
   "source": [
    "def model_training(dtrain, params, rounds):\n",
    "    model = xgb.train(dtrain= dtrain, params= params, num_boost_round= rounds)\n",
    "    return model"
   ]
  },
  {
   "cell_type": "code",
   "execution_count": 62,
   "metadata": {},
   "outputs": [],
   "source": [
    "#make predictions based on probabilities and a threshold\n",
    "def get_preds(probabilities, threshold):\n",
    "    return [1 if x > threshold else 0 for x in probabilities]"
   ]
  },
  {
   "cell_type": "code",
   "execution_count": 101,
   "metadata": {},
   "outputs": [],
   "source": [
    "def scores(dtest, y_test, model):\n",
    "    probs = model.predict(dtest)\n",
    "    auc = round(roc_auc_score(y_test, probs), 4)\n",
    "    y_pred = get_preds(probs, 0.1)\n",
    "    cm = confusion_matrix(y_test, y_pred)\n",
    "    return auc, cm, y_pred"
   ]
  },
  {
   "cell_type": "markdown",
   "metadata": {},
   "source": [
    "# Submission"
   ]
  },
  {
   "cell_type": "code",
   "execution_count": 51,
   "metadata": {},
   "outputs": [],
   "source": [
    "def transform_data(data):\n",
    "    data = data.drop(['ID_code'], axis = 1)\n",
    "    scaler = StandardScaler() \n",
    "    test_features = scaler.fit_transform(data)\n",
    "    final_data = xgb.DMatrix(test_features)\n",
    "    return final_data"
   ]
  },
  {
   "cell_type": "code",
   "execution_count": 64,
   "metadata": {},
   "outputs": [],
   "source": [
    "def make_csv(test_data, model):\n",
    "    preds_final = model.predict(test_data)\n",
    "    predictions = pd.Series(preds_final, index = test['ID_code'], name = 'target')\n",
    "    return predictions.to_csv(\"submission.csv\", header = True)"
   ]
  },
  {
   "cell_type": "code",
   "execution_count": 99,
   "metadata": {},
   "outputs": [],
   "source": [
    "for i in np.arange(1):\n",
    "    params = {\n",
    "    'objective': \"binary:logistic\", \n",
    "    'colsample_bytree': .3, \n",
    "    'learning_rate': 0.1, \n",
    "    'max_depth': 2,\n",
    "    'gamma': 10,\n",
    "    'subsample': 0.8,\n",
    "    'reg_alpha' : 0.4,\n",
    "    'scale_pos_weight': 1,\n",
    "    'tree_method': 'gpu_hist',\n",
    "    'silent': 1}\n",
    "    model = model_training(D_train, params, 2500)"
   ]
  },
  {
   "cell_type": "code",
   "execution_count": 102,
   "metadata": {},
   "outputs": [
    {
     "name": "stdout",
     "output_type": "stream",
     "text": [
      "AUC = 0.8943\n",
      "Confusion Matrix: \n",
      " [[74264 15765]\n",
      " [ 1974  7997]]\n",
      "--------------------\n",
      "FPR : % 18.0\n",
      "TPR : % 80.0\n",
      "PPV : % 34.0\n",
      "---------------------------------------------------------\n"
     ]
    }
   ],
   "source": [
    "auc, cm, predicted = scores(D_test, y_test, model)\n",
    "print(\"AUC = {}\".format(auc))\n",
    "print('Confusion Matrix: \\n', cm)\n",
    "print('--------------------')\n",
    "print('FPR : %', round(100 * (cm[0][1]/(cm[0][0]+cm[0][1]))))\n",
    "print('TPR : %', round(100* (cm[1][1]/(cm[1][0]+cm[1][1]))))\n",
    "print('PPV : %', round(100* (cm[1][1]/(cm[0][1]+cm[1][1]))))\n",
    "print('---------------------------------------------------------')"
   ]
  },
  {
   "cell_type": "code",
   "execution_count": 95,
   "metadata": {},
   "outputs": [],
   "source": [
    "probs = model.predict(D_test)"
   ]
  },
  {
   "cell_type": "code",
   "execution_count": 88,
   "metadata": {},
   "outputs": [
    {
     "data": {
      "text/plain": [
       "count    40000.000000\n",
       "mean         0.097888\n",
       "std          0.172977\n",
       "min          0.000125\n",
       "25%          0.010180\n",
       "50%          0.029388\n",
       "75%          0.093061\n",
       "max          0.998553\n",
       "dtype: float64"
      ]
     },
     "execution_count": 88,
     "metadata": {},
     "output_type": "execute_result"
    }
   ],
   "source": [
    "pd.Series(probs).describe()"
   ]
  },
  {
   "cell_type": "code",
   "execution_count": 90,
   "metadata": {},
   "outputs": [
    {
     "data": {
      "text/plain": [
       "(-0.001873, 0.1]    30533\n",
       "(0.1, 0.2]           4077\n",
       "(0.2, 0.3]           1695\n",
       "(0.3, 0.399]         1008\n",
       "(0.399, 0.499]        669\n",
       "(0.499, 0.599]        537\n",
       "(0.599, 0.699]        433\n",
       "(0.699, 0.799]        369\n",
       "(0.799, 0.899]        344\n",
       "(0.899, 0.999]        335\n",
       "dtype: int64"
      ]
     },
     "execution_count": 90,
     "metadata": {},
     "output_type": "execute_result"
    }
   ],
   "source": [
    "pd.Series(probs).value_counts(bins=10)"
   ]
  },
  {
   "cell_type": "code",
   "execution_count": 96,
   "metadata": {},
   "outputs": [],
   "source": [
    "roc_values = []\n",
    "for thresh in np.linspace(0, 1, 101):\n",
    "    preds = get_preds(probs, thresh)\n",
    "    tn, fp, fn, tp = confusion_matrix(y_test, preds).ravel()\n",
    "    tpr = tp/(tp+fn)\n",
    "    fpr = fp/(fp+tn)\n",
    "    roc_values.append([tpr, fpr])\n",
    "tpr_values, fpr_values = zip(*roc_values)"
   ]
  },
  {
   "cell_type": "code",
   "execution_count": 97,
   "metadata": {},
   "outputs": [
    {
     "data": {
      "image/png": "[encoded data removed]",
      "text/plain": [
       "<Figure size 720x504 with 1 Axes>"
      ]
     },
     "metadata": {
      "needs_background": "light"
     },
     "output_type": "display_data"
    }
   ],
   "source": [
    "fig, ax = plt.subplots(figsize=(10,7))\n",
    "ax.plot(fpr_values, tpr_values)\n",
    "ax.plot(np.linspace(0, 1, 100),\n",
    "         np.linspace(0, 1, 100),\n",
    "         label='baseline',\n",
    "         linestyle='--')\n",
    "plt.title('Receiver Operating Characteristic Curve', fontsize=18)\n",
    "plt.ylabel('TPR', fontsize=16)\n",
    "plt.xlabel('FPR', fontsize=16)\n",
    "plt.legend(fontsize=12);"
   ]
  },
  {
   "cell_type": "code",
   "execution_count": 65,
   "metadata": {},
   "outputs": [],
   "source": [
    "test_data = transform_data(test)\n",
    "make_csv(test_data, model)"
   ]
  },
  {
   "cell_type": "code",
   "execution_count": null,
   "metadata": {},
   "outputs": [],
   "source": []
  }
 ],
 "metadata": {
  "kernelspec": {
   "display_name": "Python 3",
   "language": "python",
   "name": "python3"
  },
  "language_info": {
   "codemirror_mode": {
    "name": "ipython",
    "version": 3
   },
   "file_extension": ".py",
   "mimetype": "text/x-python",
   "name": "python",
   "nbconvert_exporter": "python",
   "pygments_lexer": "ipython3",
   "version": "3.7.1"
  }
 },
 "nbformat": 4,
 "nbformat_minor": 2
}
